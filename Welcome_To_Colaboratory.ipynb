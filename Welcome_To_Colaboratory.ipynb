{
  "cells": [
    {
      "cell_type": "markdown",
      "metadata": {
        "id": "view-in-github",
        "colab_type": "text"
      },
      "source": [
        "<a href=\"https://colab.research.google.com/github/smlareyes2019/Elective-Lab/blob/main/Welcome_To_Colaboratory.ipynb\" target=\"_parent\"><img src=\"https://colab.research.google.com/assets/colab-badge.svg\" alt=\"Open In Colab\"/></a>"
      ]
    },
    {
      "cell_type": "markdown",
      "source": [
        "Python Indention"
      ],
      "metadata": {
        "id": "KkYn4WPOpZyG"
      }
    },
    {
      "cell_type": "code",
      "source": [
        "if 5<2:\n",
        "  print(\"Five is less than two\")\n",
        "else:\n",
        "  print(\"Five is greater than two\")"
      ],
      "metadata": {
        "id": "m5Z9m5Pzpay2",
        "outputId": "1b943448-9998-49e8-ad9a-752e8b1cfdb5",
        "colab": {
          "base_uri": "https://localhost:8080/"
        }
      },
      "execution_count": 1,
      "outputs": [
        {
          "output_type": "stream",
          "name": "stdout",
          "text": [
            "Five is greater than two\n"
          ]
        }
      ]
    },
    {
      "cell_type": "markdown",
      "source": [
        "Python Comments"
      ],
      "metadata": {
        "id": "VB79ibxMpd9d"
      }
    },
    {
      "cell_type": "code",
      "source": [
        "# This is a program that displays Hello, World\n",
        "\n",
        "print(\"Hello, World\")\n",
        "print('Welcome to Python Programming')"
      ],
      "metadata": {
        "id": "yC6X6SYqpkNX",
        "outputId": "e5318f13-f09d-4e5b-c70d-d0095d8925b2",
        "colab": {
          "base_uri": "https://localhost:8080/"
        }
      },
      "execution_count": 2,
      "outputs": [
        {
          "output_type": "stream",
          "name": "stdout",
          "text": [
            "Hello, World\n",
            "Welcome to Python Programming\n"
          ]
        }
      ]
    }
  ],
  "metadata": {
    "colab": {
      "collapsed_sections": [],
      "name": "Welcome To Colaboratory",
      "toc_visible": true,
      "provenance": [],
      "include_colab_link": true
    },
    "kernelspec": {
      "display_name": "Python 3",
      "name": "python3"
    }
  },
  "nbformat": 4,
  "nbformat_minor": 0
}